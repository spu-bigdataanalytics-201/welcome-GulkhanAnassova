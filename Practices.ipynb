{
 "cells": [
  {
   "cell_type": "code",
   "execution_count": 1,
   "metadata": {},
   "outputs": [
    {
     "name": "stdout",
     "output_type": "stream",
     "text": [
      "My name is Gulkhan and my last name is Anassova. I am 31 years old.\n"
     ]
    }
   ],
   "source": [
    "txt = \"My name is {} and my last name is {}. I am {} years old.\"\n",
    "name = \"Gulkhan\"\n",
    "lastName = \"Anassova\"\n",
    "age = 31\n",
    "print(txt.format(name, lastName, age))"
   ]
  },
  {
   "cell_type": "code",
   "execution_count": 7,
   "metadata": {},
   "outputs": [
    {
     "name": "stdout",
     "output_type": "stream",
     "text": [
      "The price is 50.00 dollars\n"
     ]
    }
   ],
   "source": [
    "price = 50\n",
    "txt = \"The price is {:.2f} dollars\"\n",
    "print(txt.format(price))"
   ]
  },
  {
   "cell_type": "code",
   "execution_count": 8,
   "metadata": {},
   "outputs": [
    {
     "name": "stdout",
     "output_type": "stream",
     "text": [
      "At Whole food apples cost $6.00.\n"
     ]
    }
   ],
   "source": [
    "apples = 6\n",
    "txt = 'At Whole food apples cost ${:.2f}.'\n",
    "print(txt.format(apples))"
   ]
  },
  {
   "cell_type": "code",
   "execution_count": 10,
   "metadata": {},
   "outputs": [
    {
     "name": "stdout",
     "output_type": "stream",
     "text": [
      "What is you favorite number?56\n",
      "my favorite number is 56\n"
     ]
    }
   ],
   "source": [
    "txt = input('What is you favorite number?')\n",
    "print('my favorite number is ' + txt)"
   ]
  },
  {
   "cell_type": "code",
   "execution_count": 11,
   "metadata": {},
   "outputs": [
    {
     "name": "stdout",
     "output_type": "stream",
     "text": [
      "Windows\n"
     ]
    }
   ],
   "source": [
    "import platform\n",
    "\n",
    "x = platform.system()\n",
    "print(x)"
   ]
  },
  {
   "cell_type": "code",
   "execution_count": 18,
   "metadata": {},
   "outputs": [
    {
     "name": "stdout",
     "output_type": "stream",
     "text": [
      "Hello my func!\n"
     ]
    }
   ],
   "source": [
    "def func():\n",
    "    print(\"Hello my func!\")\n",
    "func()"
   ]
  },
  {
   "cell_type": "code",
   "execution_count": 22,
   "metadata": {},
   "outputs": [
    {
     "name": "stdout",
     "output_type": "stream",
     "text": [
      "Gulkhan Anassova\n",
      "Assel Anassova\n",
      "Slushahsh Anassova\n"
     ]
    }
   ],
   "source": [
    "def func(fname):\n",
    "    print(fname + \"Anassova\")\n",
    "func('Gulkhan ')\n",
    "func('Assel ')\n",
    "func('Slushahsh ')"
   ]
  },
  {
   "cell_type": "code",
   "execution_count": 23,
   "metadata": {},
   "outputs": [
    {
     "name": "stdout",
     "output_type": "stream",
     "text": [
      "Gulkhan Anassova\n"
     ]
    }
   ],
   "source": [
    "def name(fname, lname):\n",
    "    print(fname+\" \"+lname)\n",
    "name(\"Gulkhan\", \"Anassova\")"
   ]
  },
  {
   "cell_type": "code",
   "execution_count": 30,
   "metadata": {},
   "outputs": [
    {
     "name": "stdout",
     "output_type": "stream",
     "text": [
      "The youngest kids are Larisa, Rome\n"
     ]
    }
   ],
   "source": [
    "def func(*kids):\n",
    "    print(\"The youngest kids are \" + kids[2] +', ' + kids[ 0])\n",
    "    \n",
    "func(\"Rome\", \"Vanya\", \"Larisa\")"
   ]
  },
  {
   "cell_type": "code",
   "execution_count": 32,
   "metadata": {},
   "outputs": [
    {
     "name": "stdout",
     "output_type": "stream",
     "text": [
      "Masha\n",
      "Nastya\n",
      "Zhenya\n"
     ]
    }
   ],
   "source": [
    "def func(kids):\n",
    "    for x in kids:\n",
    "        print(x)\n",
    "name = ('Masha', 'Nastya', 'Zhenya')\n",
    "func(kids)"
   ]
  },
  {
   "cell_type": "code",
   "execution_count": 40,
   "metadata": {},
   "outputs": [
    {
     "name": "stdout",
     "output_type": "stream",
     "text": [
      "The weather is chilly\n"
     ]
    }
   ],
   "source": [
    "def func():\n",
    "    x = \"The weather is chilly\"\n",
    "    print(x)\n",
    "func()"
   ]
  },
  {
   "cell_type": "code",
   "execution_count": null,
   "metadata": {},
   "outputs": [],
   "source": []
  }
 ],
 "metadata": {
  "kernelspec": {
   "display_name": "Python 3",
   "language": "python",
   "name": "python3"
  },
  "language_info": {
   "codemirror_mode": {
    "name": "ipython",
    "version": 3
   },
   "file_extension": ".py",
   "mimetype": "text/x-python",
   "name": "python",
   "nbconvert_exporter": "python",
   "pygments_lexer": "ipython3",
   "version": "3.8.2"
  }
 },
 "nbformat": 4,
 "nbformat_minor": 4
}
